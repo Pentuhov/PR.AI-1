{
  "cells": [
    {
      "cell_type": "markdown",
      "metadata": {
        "id": "view-in-github",
        "colab_type": "text"
      },
      "source": [
        "<a href=\"https://colab.research.google.com/github/Pentuhov/PR.AI-1/blob/main/%D0%92%D0%B2%D0%B5%D0%B4%D0%B5%D0%BD%D0%B8%D0%B5_%D0%B2_%D0%BD%D0%B5%D0%B9%D1%80%D0%BE%D0%BD%D0%BD%D1%8B%D0%B5_%D1%81%D0%B5%D1%82%D0%B8_%D0%9B%D0%B8%D0%BD%D0%B5%D0%B9%D0%BD%D1%8B%D0%B9_%D1%81%D0%BB%D0%BE%D0%B9_(Dense)_%D0%94%D0%97_Lite.ipynb\" target=\"_parent\"><img src=\"https://colab.research.google.com/assets/colab-badge.svg\" alt=\"Open In Colab\"/></a>"
      ]
    },
    {
      "cell_type": "markdown",
      "metadata": {
        "id": "d_qXycKuUA51"
      },
      "source": [
        "### Задание"
      ]
    },
    {
      "cell_type": "markdown",
      "metadata": {
        "id": "aUMmCXubUHEb"
      },
      "source": [
        "Создайте систему компьютерного зрения, которая будет определять тип геометрической фигуры. Используя подготовленную базу и шаблон ноутбука проведите серию экспериментов по перебору гиперпараметров нейронной сети, распознающей три категории изображений (треугольник, круг, квадрат).\n",
        "\n",
        "1. Поменяйте количество нейронов в сети, используя следующие значения:\n",
        "\n",
        "- один слой 10 нейронов\n",
        "- один слой 100 нейронов\n",
        "- один слой 5000 нейронов.\n",
        "\n",
        "2. Поменяйте активационную функцию в скрытых слоях с `relu` на `linear`.\n",
        "3. Поменяйте размеры batch_size:\n",
        "- 10\n",
        "- 100\n",
        "- 1000\n",
        "\n",
        "4. Выведите на экран получившиеся точности.\n",
        "\n",
        "Всего должно получиться 18 комбинаций указанных параметров.\n",
        "\n",
        "Создайте сравнительную таблицу по результатам проведенных тестов."
      ]
    },
    {
      "cell_type": "code",
      "execution_count": null,
      "metadata": {
        "id": "2zDFM0apy8-R"
      },
      "outputs": [],
      "source": [
        "# Подключение класса для создания нейронной сети прямого распространения\n",
        "from tensorflow.keras.models import Sequential\n",
        "# Подключение класса для создания полносвязного слоя\n",
        "from tensorflow.keras.layers import Dense\n",
        "# Подключение оптимизатора\n",
        "from tensorflow.keras.optimizers import Adam\n",
        "# Подключение утилит для to_categorical\n",
        "from tensorflow.keras import utils\n",
        "# Подключение библиотеки для загрузки изображений\n",
        "from tensorflow.keras.preprocessing import image\n",
        "# Подключение библиотеки для работы с массивами\n",
        "import numpy as np\n",
        "# Подключение библиотек для отрисовки изображений\n",
        "import matplotlib.pyplot as plt\n",
        "# Подключение модуля для работы с файлами\n",
        "import os\n",
        "# Преобразование изображения в одномерный массив\n",
        "from tensorflow.keras.layers import Flatten\n",
        "# Вывод изображения в ноутбуке, а не в консоли или файле\n",
        "%matplotlib inline"
      ]
    },
    {
      "cell_type": "code",
      "execution_count": null,
      "metadata": {
        "colab": {
          "base_uri": "https://localhost:8080/",
          "height": 35
        },
        "id": "yK5nGKwvcXKD",
        "outputId": "7f91e050-ad9a-4700-ee86-19456511501b"
      },
      "outputs": [
        {
          "data": {
            "application/vnd.google.colaboratory.intrinsic+json": {
              "type": "string"
            },
            "text/plain": [
              "'hw_light.zip'"
            ]
          },
          "execution_count": 2,
          "metadata": {},
          "output_type": "execute_result"
        }
      ],
      "source": [
        "# Загрузка датасета из облака\n",
        "import gdown\n",
        "gdown.download('https://storage.yandexcloud.net/aiueducation/Content/base/l3/hw_light.zip', None, quiet=True)"
      ]
    },
    {
      "cell_type": "code",
      "execution_count": null,
      "metadata": {
        "id": "VCcXAah-y1Uy"
      },
      "outputs": [],
      "source": [
        "# Распаковываем архив hw_light.zip в папку hw_light\n",
        "import zipfile\n",
        "with zipfile.ZipFile('hw_light.zip', 'r') as zip_ref:\n",
        "    zip_ref.extractall(r'C:\\Users\\Terion\\Занятие 1\\Домашняя работа')"
      ]
    },
    {
      "cell_type": "code",
      "execution_count": null,
      "metadata": {
        "colab": {
          "base_uri": "https://localhost:8080/"
        },
        "id": "6Hp0WpKAzEji",
        "outputId": "01fbefd0-714d-4a61-854e-4ffb54ff6271"
      },
      "outputs": [
        {
          "name": "stdout",
          "output_type": "stream",
          "text": [
            "Размер массива x_train (302, 20, 20, 1)\n",
            "Размер массива y_train (302,)\n"
          ]
        }
      ],
      "source": [
        "import os\n",
        "import numpy as np\n",
        "from tensorflow.keras.preprocessing import image\n",
        "from tensorflow.keras.models import Sequential\n",
        "from tensorflow.keras.layers import Dense, Flatten\n",
        "from sklearn.model_selection import train_test_split\n",
        "from sklearn.metrics import accuracy_score\n",
        "import pandas as pd\n",
        "\n",
        "# Путь к директории с базой\n",
        "base_dir = r'C:\\Users\\Terion\\Занятие 1\\Домашняя работа\\hw_light'\n",
        "# Создание пустого списка для загрузки изображений обучающей выборки\n",
        "x_train = []\n",
        "# Создание списка для меток классов\n",
        "y_train = []\n",
        "# Задание высоты и ширины загружаемых изображений\n",
        "img_height = 20\n",
        "img_width = 20\n",
        "# Перебор папок в директории базы\n",
        "for patch in os.listdir(base_dir):\n",
        "    # Перебор файлов в папках\n",
        "    for img in os.listdir(base_dir + '/' + patch):\n",
        "        # Добавление в список изображений текущей картинки\n",
        "        x_train.append(image.img_to_array(image.load_img(base_dir + '/' + patch + '/' + img,\n",
        "                                                    target_size=(img_height, img_width),\n",
        "                                                    color_mode='grayscale')))\n",
        "        # Добавление в массив меток, соответствующих классам\n",
        "        if patch == '0':\n",
        "            y_train.append(0)\n",
        "        elif patch == '3':\n",
        "            y_train.append(1)\n",
        "        else:\n",
        "            y_train.append(2)\n",
        "\n",
        "# Преобразование в numpy-массив загруженных изображений и меток классов\n",
        "x_train = np.array(x_train)\n",
        "y_train = np.array(y_train)\n",
        "# Вывод размерностей\n",
        "print('Размер массива x_train', x_train.shape)\n",
        "print('Размер массива y_train', y_train.shape)"
      ]
    },
    {
      "cell_type": "code",
      "execution_count": null,
      "metadata": {
        "id": "6i-qvZB3IABQ"
      },
      "outputs": [],
      "source": [
        "# Разделение данных на обучающую и тестовую выборки\n",
        "x_train, x_test, y_train, y_test = train_test_split(x_train, y_train, test_size=0.2, random_state=42)"
      ]
    },
    {
      "cell_type": "code",
      "execution_count": null,
      "metadata": {
        "id": "b9_LIKE_zYjf"
      },
      "outputs": [],
      "source": [
        "# Функция для создания и обучения модели с заданными гиперпараметрами\n",
        "def create_and_train_model(neurons, activation_func, batch_size):\n",
        "    model = Sequential()\n",
        "    model.add(Flatten(input_shape=(img_height, img_width, 1)))\n",
        "    model.add(Dense(neurons, activation=activation_func))\n",
        "    model.add(Dense(3, activation='softmax'))\n",
        "\n",
        "    model.compile(optimizer='adam', loss='sparse_categorical_crossentropy', metrics=['accuracy'])\n",
        "    model.fit(x_train, y_train, epochs=10, batch_size=batch_size, validation_split=0.2, verbose=2)\n",
        "\n",
        "    # Оценка точности на тестовой выборке\n",
        "    y_pred = np.argmax(model.predict(x_test), axis=1)\n",
        "    accuracy = accuracy_score(y_test, y_pred)\n",
        "\n",
        "    return accuracy"
      ]
    },
    {
      "cell_type": "code",
      "execution_count": null,
      "metadata": {
        "id": "gadEUTmGIABR",
        "outputId": "086025bb-272f-4614-ee1d-82d101b8bda4"
      },
      "outputs": [
        {
          "name": "stdout",
          "output_type": "stream",
          "text": [
            "\n",
            "Эксперимент с 10 нейронами, активационной функцией relu и batch_size=10:\n",
            "Epoch 1/10\n"
          ]
        },
        {
          "name": "stderr",
          "output_type": "stream",
          "text": [
            "C:\\Users\\Terion\\AppData\\Roaming\\Python\\Python311\\site-packages\\keras\\src\\layers\\reshaping\\flatten.py:37: UserWarning: Do not pass an `input_shape`/`input_dim` argument to a layer. When using Sequential models, prefer using an `Input(shape)` object as the first layer in the model instead.\n",
            "  super().__init__(**kwargs)\n"
          ]
        },
        {
          "name": "stdout",
          "output_type": "stream",
          "text": [
            "20/20 - 2s - 82ms/step - accuracy: 0.3802 - loss: 63.3004 - val_accuracy: 0.3469 - val_loss: 29.3748\n",
            "Epoch 2/10\n",
            "20/20 - 0s - 11ms/step - accuracy: 0.4167 - loss: 3.3570 - val_accuracy: 0.3673 - val_loss: 1.0970\n",
            "Epoch 3/10\n",
            "20/20 - 0s - 13ms/step - accuracy: 0.3542 - loss: 1.0819 - val_accuracy: 0.3878 - val_loss: 1.0980\n",
            "Epoch 4/10\n",
            "20/20 - 0s - 12ms/step - accuracy: 0.3490 - loss: 1.0839 - val_accuracy: 0.3265 - val_loss: 1.0980\n",
            "Epoch 5/10\n",
            "20/20 - 0s - 18ms/step - accuracy: 0.3594 - loss: 1.0788 - val_accuracy: 0.3265 - val_loss: 1.0980\n",
            "Epoch 6/10\n",
            "20/20 - 0s - 11ms/step - accuracy: 0.3594 - loss: 1.0772 - val_accuracy: 0.3265 - val_loss: 1.0981\n",
            "Epoch 7/10\n",
            "20/20 - 0s - 12ms/step - accuracy: 0.3646 - loss: 1.0798 - val_accuracy: 0.3265 - val_loss: 1.0982\n",
            "Epoch 8/10\n",
            "20/20 - 0s - 11ms/step - accuracy: 0.3646 - loss: 1.0778 - val_accuracy: 0.3265 - val_loss: 1.0981\n",
            "Epoch 9/10\n",
            "20/20 - 0s - 11ms/step - accuracy: 0.3646 - loss: 1.0769 - val_accuracy: 0.3265 - val_loss: 1.0981\n",
            "Epoch 10/10\n",
            "20/20 - 0s - 13ms/step - accuracy: 0.3646 - loss: 1.0764 - val_accuracy: 0.3265 - val_loss: 1.0980\n",
            "\u001b[1m2/2\u001b[0m \u001b[32m━━━━━━━━━━━━━━━━━━━━\u001b[0m\u001b[37m\u001b[0m \u001b[1m0s\u001b[0m 87ms/step\n",
            "Точность: 0.2786885245901639\n",
            "\n",
            "Эксперимент с 10 нейронами, активационной функцией relu и batch_size=100:\n",
            "Epoch 1/10\n"
          ]
        },
        {
          "name": "stderr",
          "output_type": "stream",
          "text": [
            "C:\\Users\\Terion\\AppData\\Roaming\\Python\\Python311\\site-packages\\keras\\src\\layers\\reshaping\\flatten.py:37: UserWarning: Do not pass an `input_shape`/`input_dim` argument to a layer. When using Sequential models, prefer using an `Input(shape)` object as the first layer in the model instead.\n",
            "  super().__init__(**kwargs)\n"
          ]
        },
        {
          "name": "stdout",
          "output_type": "stream",
          "text": [
            "2/2 - 1s - 624ms/step - accuracy: 0.3229 - loss: 256.8353 - val_accuracy: 0.4286 - val_loss: 132.8005\n",
            "Epoch 2/10\n",
            "2/2 - 0s - 67ms/step - accuracy: 0.3177 - loss: 132.6236 - val_accuracy: 0.3878 - val_loss: 68.5403\n",
            "Epoch 3/10\n",
            "2/2 - 0s - 69ms/step - accuracy: 0.2865 - loss: 84.6207 - val_accuracy: 0.3878 - val_loss: 68.9011\n",
            "Epoch 4/10\n",
            "2/2 - 0s - 74ms/step - accuracy: 0.2969 - loss: 76.1472 - val_accuracy: 0.3673 - val_loss: 56.9754\n",
            "Epoch 5/10\n",
            "2/2 - 0s - 71ms/step - accuracy: 0.3229 - loss: 52.7232 - val_accuracy: 0.4898 - val_loss: 30.0553\n",
            "Epoch 6/10\n",
            "2/2 - 0s - 68ms/step - accuracy: 0.3438 - loss: 31.8762 - val_accuracy: 0.5102 - val_loss: 26.0418\n",
            "Epoch 7/10\n",
            "2/2 - 0s - 73ms/step - accuracy: 0.4531 - loss: 32.4855 - val_accuracy: 0.5510 - val_loss: 28.1186\n",
            "Epoch 8/10\n",
            "2/2 - 0s - 63ms/step - accuracy: 0.4688 - loss: 32.6726 - val_accuracy: 0.5306 - val_loss: 25.2454\n",
            "Epoch 9/10\n",
            "2/2 - 0s - 71ms/step - accuracy: 0.4375 - loss: 26.6163 - val_accuracy: 0.4898 - val_loss: 22.6288\n",
            "Epoch 10/10\n",
            "2/2 - 0s - 104ms/step - accuracy: 0.4271 - loss: 21.3763 - val_accuracy: 0.4694 - val_loss: 25.0953\n",
            "\u001b[1m2/2\u001b[0m \u001b[32m━━━━━━━━━━━━━━━━━━━━\u001b[0m\u001b[37m\u001b[0m \u001b[1m0s\u001b[0m 75ms/step\n",
            "Точность: 0.4426229508196721\n",
            "\n",
            "Эксперимент с 10 нейронами, активационной функцией relu и batch_size=1000:\n",
            "Epoch 1/10\n"
          ]
        },
        {
          "name": "stderr",
          "output_type": "stream",
          "text": [
            "C:\\Users\\Terion\\AppData\\Roaming\\Python\\Python311\\site-packages\\keras\\src\\layers\\reshaping\\flatten.py:37: UserWarning: Do not pass an `input_shape`/`input_dim` argument to a layer. When using Sequential models, prefer using an `Input(shape)` object as the first layer in the model instead.\n",
            "  super().__init__(**kwargs)\n"
          ]
        },
        {
          "name": "stdout",
          "output_type": "stream",
          "text": [
            "1/1 - 1s - 1s/step - accuracy: 0.3385 - loss: 87.1667 - val_accuracy: 0.2857 - val_loss: 67.5637\n",
            "Epoch 2/10\n",
            "1/1 - 0s - 137ms/step - accuracy: 0.3646 - loss: 62.8459 - val_accuracy: 0.3673 - val_loss: 51.0950\n",
            "Epoch 3/10\n",
            "1/1 - 0s - 131ms/step - accuracy: 0.4271 - loss: 43.5830 - val_accuracy: 0.4082 - val_loss: 42.6476\n",
            "Epoch 4/10\n",
            "1/1 - 0s - 150ms/step - accuracy: 0.4740 - loss: 32.1375 - val_accuracy: 0.4490 - val_loss: 43.4928\n",
            "Epoch 5/10\n",
            "1/1 - 0s - 153ms/step - accuracy: 0.5104 - loss: 27.2780 - val_accuracy: 0.4694 - val_loss: 40.4567\n",
            "Epoch 6/10\n",
            "1/1 - 0s - 166ms/step - accuracy: 0.5312 - loss: 23.7263 - val_accuracy: 0.5918 - val_loss: 33.7284\n",
            "Epoch 7/10\n",
            "1/1 - 0s - 135ms/step - accuracy: 0.5833 - loss: 17.7545 - val_accuracy: 0.5510 - val_loss: 29.0917\n",
            "Epoch 8/10\n",
            "1/1 - 0s - 194ms/step - accuracy: 0.6562 - loss: 13.9577 - val_accuracy: 0.5102 - val_loss: 28.4684\n",
            "Epoch 9/10\n",
            "1/1 - 0s - 141ms/step - accuracy: 0.6667 - loss: 12.7695 - val_accuracy: 0.5102 - val_loss: 28.0520\n",
            "Epoch 10/10\n",
            "1/1 - 0s - 170ms/step - accuracy: 0.6198 - loss: 12.2862 - val_accuracy: 0.5306 - val_loss: 27.2322\n",
            "WARNING:tensorflow:5 out of the last 5 calls to <function TensorFlowTrainer.make_predict_function.<locals>.one_step_on_data_distributed at 0x0000000029466840> triggered tf.function retracing. Tracing is expensive and the excessive number of tracings could be due to (1) creating @tf.function repeatedly in a loop, (2) passing tensors with different shapes, (3) passing Python objects instead of tensors. For (1), please define your @tf.function outside of the loop. For (2), @tf.function has reduce_retracing=True option that can avoid unnecessary retracing. For (3), please refer to https://www.tensorflow.org/guide/function#controlling_retracing and https://www.tensorflow.org/api_docs/python/tf/function for  more details.\n",
            "\u001b[1m1/2\u001b[0m \u001b[32m━━━━━━━━━━\u001b[0m\u001b[37m━━━━━━━━━━\u001b[0m \u001b[1m0s\u001b[0m 70ms/stepWARNING:tensorflow:6 out of the last 6 calls to <function TensorFlowTrainer.make_predict_function.<locals>.one_step_on_data_distributed at 0x0000000029466840> triggered tf.function retracing. Tracing is expensive and the excessive number of tracings could be due to (1) creating @tf.function repeatedly in a loop, (2) passing tensors with different shapes, (3) passing Python objects instead of tensors. For (1), please define your @tf.function outside of the loop. For (2), @tf.function has reduce_retracing=True option that can avoid unnecessary retracing. For (3), please refer to https://www.tensorflow.org/guide/function#controlling_retracing and https://www.tensorflow.org/api_docs/python/tf/function for  more details.\n",
            "\u001b[1m2/2\u001b[0m \u001b[32m━━━━━━━━━━━━━━━━━━━━\u001b[0m\u001b[37m\u001b[0m \u001b[1m0s\u001b[0m 76ms/step\n",
            "Точность: 0.5081967213114754\n",
            "\n",
            "Эксперимент с 10 нейронами, активационной функцией linear и batch_size=10:\n",
            "Epoch 1/10\n"
          ]
        },
        {
          "name": "stderr",
          "output_type": "stream",
          "text": [
            "C:\\Users\\Terion\\AppData\\Roaming\\Python\\Python311\\site-packages\\keras\\src\\layers\\reshaping\\flatten.py:37: UserWarning: Do not pass an `input_shape`/`input_dim` argument to a layer. When using Sequential models, prefer using an `Input(shape)` object as the first layer in the model instead.\n",
            "  super().__init__(**kwargs)\n"
          ]
        },
        {
          "name": "stdout",
          "output_type": "stream",
          "text": [
            "20/20 - 1s - 68ms/step - accuracy: 0.3385 - loss: 132.8600 - val_accuracy: 0.4490 - val_loss: 75.6265\n",
            "Epoch 2/10\n",
            "20/20 - 0s - 10ms/step - accuracy: 0.5365 - loss: 63.3869 - val_accuracy: 0.5102 - val_loss: 99.8316\n",
            "Epoch 3/10\n",
            "20/20 - 0s - 10ms/step - accuracy: 0.5469 - loss: 64.6986 - val_accuracy: 0.5306 - val_loss: 49.9271\n",
            "Epoch 4/10\n",
            "20/20 - 0s - 10ms/step - accuracy: 0.5729 - loss: 57.1546 - val_accuracy: 0.4490 - val_loss: 87.3092\n",
            "Epoch 5/10\n",
            "20/20 - 0s - 12ms/step - accuracy: 0.5677 - loss: 63.2728 - val_accuracy: 0.5510 - val_loss: 59.2854\n",
            "Epoch 6/10\n",
            "20/20 - 0s - 9ms/step - accuracy: 0.6927 - loss: 31.1582 - val_accuracy: 0.6122 - val_loss: 35.7953\n",
            "Epoch 7/10\n",
            "20/20 - 0s - 8ms/step - accuracy: 0.7135 - loss: 23.6908 - val_accuracy: 0.6531 - val_loss: 46.1621\n",
            "Epoch 8/10\n",
            "20/20 - 0s - 8ms/step - accuracy: 0.6615 - loss: 34.6775 - val_accuracy: 0.5714 - val_loss: 37.6081\n",
            "Epoch 9/10\n",
            "20/20 - 0s - 11ms/step - accuracy: 0.6667 - loss: 32.4477 - val_accuracy: 0.5306 - val_loss: 102.3264\n",
            "Epoch 10/10\n",
            "20/20 - 0s - 11ms/step - accuracy: 0.6927 - loss: 31.8395 - val_accuracy: 0.5918 - val_loss: 59.0873\n",
            "\u001b[1m2/2\u001b[0m \u001b[32m━━━━━━━━━━━━━━━━━━━━\u001b[0m\u001b[37m\u001b[0m \u001b[1m0s\u001b[0m 88ms/step\n",
            "Точность: 0.7049180327868853\n",
            "\n",
            "Эксперимент с 10 нейронами, активационной функцией linear и batch_size=100:\n",
            "Epoch 1/10\n"
          ]
        },
        {
          "name": "stderr",
          "output_type": "stream",
          "text": [
            "C:\\Users\\Terion\\AppData\\Roaming\\Python\\Python311\\site-packages\\keras\\src\\layers\\reshaping\\flatten.py:37: UserWarning: Do not pass an `input_shape`/`input_dim` argument to a layer. When using Sequential models, prefer using an `Input(shape)` object as the first layer in the model instead.\n",
            "  super().__init__(**kwargs)\n"
          ]
        },
        {
          "name": "stdout",
          "output_type": "stream",
          "text": [
            "2/2 - 1s - 740ms/step - accuracy: 0.3490 - loss: 396.2312 - val_accuracy: 0.4082 - val_loss: 193.5983\n",
            "Epoch 2/10\n",
            "2/2 - 0s - 75ms/step - accuracy: 0.3125 - loss: 234.0375 - val_accuracy: 0.2857 - val_loss: 190.7103\n",
            "Epoch 3/10\n",
            "2/2 - 0s - 65ms/step - accuracy: 0.2708 - loss: 192.2015 - val_accuracy: 0.2653 - val_loss: 171.9982\n",
            "Epoch 4/10\n",
            "2/2 - 0s - 75ms/step - accuracy: 0.2604 - loss: 166.1102 - val_accuracy: 0.2245 - val_loss: 160.6926\n",
            "Epoch 5/10\n",
            "2/2 - 0s - 97ms/step - accuracy: 0.3281 - loss: 148.7985 - val_accuracy: 0.3265 - val_loss: 141.6409\n",
            "Epoch 6/10\n",
            "2/2 - 0s - 82ms/step - accuracy: 0.3594 - loss: 136.4564 - val_accuracy: 0.4286 - val_loss: 138.4194\n",
            "Epoch 7/10\n",
            "2/2 - 0s - 78ms/step - accuracy: 0.3698 - loss: 131.8685 - val_accuracy: 0.4286 - val_loss: 101.7556\n",
            "Epoch 8/10\n",
            "2/2 - 0s - 92ms/step - accuracy: 0.3542 - loss: 89.9644 - val_accuracy: 0.4694 - val_loss: 80.4228\n",
            "Epoch 9/10\n",
            "2/2 - 0s - 87ms/step - accuracy: 0.3958 - loss: 74.0996 - val_accuracy: 0.4490 - val_loss: 97.4441\n",
            "Epoch 10/10\n",
            "2/2 - 0s - 96ms/step - accuracy: 0.4531 - loss: 87.7850 - val_accuracy: 0.4694 - val_loss: 96.8837\n",
            "\u001b[1m2/2\u001b[0m \u001b[32m━━━━━━━━━━━━━━━━━━━━\u001b[0m\u001b[37m\u001b[0m \u001b[1m0s\u001b[0m 64ms/step\n",
            "Точность: 0.4262295081967213\n",
            "\n",
            "Эксперимент с 10 нейронами, активационной функцией linear и batch_size=1000:\n"
          ]
        },
        {
          "name": "stderr",
          "output_type": "stream",
          "text": [
            "C:\\Users\\Terion\\AppData\\Roaming\\Python\\Python311\\site-packages\\keras\\src\\layers\\reshaping\\flatten.py:37: UserWarning: Do not pass an `input_shape`/`input_dim` argument to a layer. When using Sequential models, prefer using an `Input(shape)` object as the first layer in the model instead.\n",
            "  super().__init__(**kwargs)\n"
          ]
        },
        {
          "name": "stdout",
          "output_type": "stream",
          "text": [
            "Epoch 1/10\n",
            "1/1 - 1s - 1s/step - accuracy: 0.2969 - loss: 243.3890 - val_accuracy: 0.3061 - val_loss: 186.7585\n",
            "Epoch 2/10\n",
            "1/1 - 0s - 127ms/step - accuracy: 0.3698 - loss: 149.7403 - val_accuracy: 0.2245 - val_loss: 232.0944\n",
            "Epoch 3/10\n",
            "1/1 - 0s - 137ms/step - accuracy: 0.3177 - loss: 166.0589 - val_accuracy: 0.2449 - val_loss: 240.9536\n",
            "Epoch 4/10\n",
            "1/1 - 0s - 165ms/step - accuracy: 0.3021 - loss: 171.0199 - val_accuracy: 0.3061 - val_loss: 207.4266\n",
            "Epoch 5/10\n",
            "1/1 - 0s - 165ms/step - accuracy: 0.3438 - loss: 152.0850 - val_accuracy: 0.3061 - val_loss: 177.6981\n",
            "Epoch 6/10\n",
            "1/1 - 0s - 170ms/step - accuracy: 0.3906 - loss: 133.9397 - val_accuracy: 0.3469 - val_loss: 159.7661\n",
            "Epoch 7/10\n",
            "1/1 - 0s - 135ms/step - accuracy: 0.3906 - loss: 117.7738 - val_accuracy: 0.3673 - val_loss: 156.9872\n",
            "Epoch 8/10\n",
            "1/1 - 0s - 147ms/step - accuracy: 0.3438 - loss: 112.5334 - val_accuracy: 0.3061 - val_loss: 160.1776\n",
            "Epoch 9/10\n",
            "1/1 - 0s - 207ms/step - accuracy: 0.4062 - loss: 116.4461 - val_accuracy: 0.3061 - val_loss: 160.9512\n",
            "Epoch 10/10\n",
            "1/1 - 0s - 177ms/step - accuracy: 0.4323 - loss: 113.8172 - val_accuracy: 0.3673 - val_loss: 156.9458\n",
            "\u001b[1m2/2\u001b[0m \u001b[32m━━━━━━━━━━━━━━━━━━━━\u001b[0m\u001b[37m\u001b[0m \u001b[1m0s\u001b[0m 91ms/step\n",
            "Точность: 0.3770491803278688\n",
            "\n",
            "Эксперимент с 100 нейронами, активационной функцией relu и batch_size=10:\n",
            "Epoch 1/10\n"
          ]
        },
        {
          "name": "stderr",
          "output_type": "stream",
          "text": [
            "C:\\Users\\Terion\\AppData\\Roaming\\Python\\Python311\\site-packages\\keras\\src\\layers\\reshaping\\flatten.py:37: UserWarning: Do not pass an `input_shape`/`input_dim` argument to a layer. When using Sequential models, prefer using an `Input(shape)` object as the first layer in the model instead.\n",
            "  super().__init__(**kwargs)\n"
          ]
        },
        {
          "name": "stdout",
          "output_type": "stream",
          "text": [
            "20/20 - 1s - 52ms/step - accuracy: 0.4323 - loss: 97.6689 - val_accuracy: 0.4286 - val_loss: 77.5191\n",
            "Epoch 2/10\n",
            "20/20 - 0s - 6ms/step - accuracy: 0.5938 - loss: 48.8115 - val_accuracy: 0.6327 - val_loss: 36.5383\n",
            "Epoch 3/10\n",
            "20/20 - 0s - 6ms/step - accuracy: 0.6823 - loss: 36.9811 - val_accuracy: 0.6531 - val_loss: 57.7549\n",
            "Epoch 4/10\n",
            "20/20 - 0s - 6ms/step - accuracy: 0.7135 - loss: 28.6733 - val_accuracy: 0.6735 - val_loss: 61.4263\n",
            "Epoch 5/10\n",
            "20/20 - 0s - 6ms/step - accuracy: 0.7344 - loss: 33.4772 - val_accuracy: 0.6939 - val_loss: 46.8057\n",
            "Epoch 6/10\n",
            "20/20 - 0s - 6ms/step - accuracy: 0.8281 - loss: 14.4120 - val_accuracy: 0.7347 - val_loss: 50.6124\n",
            "Epoch 7/10\n",
            "20/20 - 0s - 6ms/step - accuracy: 0.8854 - loss: 5.6926 - val_accuracy: 0.6939 - val_loss: 36.7026\n",
            "Epoch 8/10\n",
            "20/20 - 0s - 7ms/step - accuracy: 0.8021 - loss: 14.9256 - val_accuracy: 0.6327 - val_loss: 53.9785\n",
            "Epoch 9/10\n",
            "20/20 - 0s - 7ms/step - accuracy: 0.8646 - loss: 12.0127 - val_accuracy: 0.7551 - val_loss: 34.6662\n",
            "Epoch 10/10\n",
            "20/20 - 0s - 9ms/step - accuracy: 0.8542 - loss: 8.3829 - val_accuracy: 0.7347 - val_loss: 41.5883\n",
            "\u001b[1m2/2\u001b[0m \u001b[32m━━━━━━━━━━━━━━━━━━━━\u001b[0m\u001b[37m\u001b[0m \u001b[1m0s\u001b[0m 59ms/step\n",
            "Точность: 0.7540983606557377\n",
            "\n",
            "Эксперимент с 100 нейронами, активационной функцией relu и batch_size=100:\n",
            "Epoch 1/10\n"
          ]
        },
        {
          "name": "stderr",
          "output_type": "stream",
          "text": [
            "C:\\Users\\Terion\\AppData\\Roaming\\Python\\Python311\\site-packages\\keras\\src\\layers\\reshaping\\flatten.py:37: UserWarning: Do not pass an `input_shape`/`input_dim` argument to a layer. When using Sequential models, prefer using an `Input(shape)` object as the first layer in the model instead.\n",
            "  super().__init__(**kwargs)\n"
          ]
        },
        {
          "name": "stdout",
          "output_type": "stream",
          "text": [
            "2/2 - 1s - 455ms/step - accuracy: 0.4583 - loss: 172.4265 - val_accuracy: 0.3265 - val_loss: 203.8056\n",
            "Epoch 2/10\n",
            "2/2 - 0s - 135ms/step - accuracy: 0.3177 - loss: 145.0718 - val_accuracy: 0.5306 - val_loss: 100.6977\n",
            "Epoch 3/10\n",
            "2/2 - 0s - 47ms/step - accuracy: 0.5156 - loss: 103.0617 - val_accuracy: 0.4694 - val_loss: 93.6318\n",
            "Epoch 4/10\n",
            "2/2 - 0s - 44ms/step - accuracy: 0.4375 - loss: 97.2661 - val_accuracy: 0.3265 - val_loss: 98.1848\n",
            "Epoch 5/10\n",
            "2/2 - 0s - 48ms/step - accuracy: 0.4792 - loss: 69.8711 - val_accuracy: 0.6531 - val_loss: 44.6003\n",
            "Epoch 6/10\n",
            "2/2 - 0s - 44ms/step - accuracy: 0.6823 - loss: 38.0716 - val_accuracy: 0.5306 - val_loss: 74.6308\n",
            "Epoch 7/10\n",
            "2/2 - 0s - 48ms/step - accuracy: 0.6719 - loss: 57.3078 - val_accuracy: 0.5714 - val_loss: 76.1583\n",
            "Epoch 8/10\n",
            "2/2 - 0s - 46ms/step - accuracy: 0.6771 - loss: 53.3721 - val_accuracy: 0.6327 - val_loss: 54.6094\n",
            "Epoch 9/10\n",
            "2/2 - 0s - 47ms/step - accuracy: 0.7500 - loss: 32.7351 - val_accuracy: 0.6531 - val_loss: 38.1009\n",
            "Epoch 10/10\n",
            "2/2 - 0s - 130ms/step - accuracy: 0.7240 - loss: 25.3270 - val_accuracy: 0.5306 - val_loss: 45.7586\n",
            "\u001b[1m2/2\u001b[0m \u001b[32m━━━━━━━━━━━━━━━━━━━━\u001b[0m\u001b[37m\u001b[0m \u001b[1m0s\u001b[0m 61ms/step\n",
            "Точность: 0.6229508196721312\n",
            "\n",
            "Эксперимент с 100 нейронами, активационной функцией relu и batch_size=1000:\n",
            "Epoch 1/10\n"
          ]
        },
        {
          "name": "stderr",
          "output_type": "stream",
          "text": [
            "C:\\Users\\Terion\\AppData\\Roaming\\Python\\Python311\\site-packages\\keras\\src\\layers\\reshaping\\flatten.py:37: UserWarning: Do not pass an `input_shape`/`input_dim` argument to a layer. When using Sequential models, prefer using an `Input(shape)` object as the first layer in the model instead.\n",
            "  super().__init__(**kwargs)\n"
          ]
        },
        {
          "name": "stdout",
          "output_type": "stream",
          "text": [
            "1/1 - 1s - 1s/step - accuracy: 0.3333 - loss: 178.4003 - val_accuracy: 0.4898 - val_loss: 85.1646\n",
            "Epoch 2/10\n",
            "1/1 - 0s - 121ms/step - accuracy: 0.4375 - loss: 98.2467 - val_accuracy: 0.5306 - val_loss: 113.6833\n",
            "Epoch 3/10\n",
            "1/1 - 0s - 170ms/step - accuracy: 0.4271 - loss: 118.3370 - val_accuracy: 0.5306 - val_loss: 104.7294\n",
            "Epoch 4/10\n",
            "1/1 - 0s - 125ms/step - accuracy: 0.4635 - loss: 102.8923 - val_accuracy: 0.4694 - val_loss: 80.3187\n",
            "Epoch 5/10\n",
            "1/1 - 0s - 123ms/step - accuracy: 0.5833 - loss: 72.2730 - val_accuracy: 0.4898 - val_loss: 62.8855\n",
            "Epoch 6/10\n",
            "1/1 - 0s - 118ms/step - accuracy: 0.6198 - loss: 49.3462 - val_accuracy: 0.6122 - val_loss: 42.0170\n",
            "Epoch 7/10\n",
            "1/1 - 0s - 182ms/step - accuracy: 0.7396 - loss: 30.7790 - val_accuracy: 0.6122 - val_loss: 34.3135\n",
            "Epoch 8/10\n",
            "1/1 - 0s - 150ms/step - accuracy: 0.6979 - loss: 24.0002 - val_accuracy: 0.6531 - val_loss: 38.6279\n",
            "Epoch 9/10\n",
            "1/1 - 0s - 151ms/step - accuracy: 0.5885 - loss: 34.3523 - val_accuracy: 0.6327 - val_loss: 39.3245\n",
            "Epoch 10/10\n",
            "1/1 - 0s - 136ms/step - accuracy: 0.5677 - loss: 36.9067 - val_accuracy: 0.6531 - val_loss: 32.0301\n",
            "\u001b[1m2/2\u001b[0m \u001b[32m━━━━━━━━━━━━━━━━━━━━\u001b[0m\u001b[37m\u001b[0m \u001b[1m0s\u001b[0m 62ms/step\n",
            "Точность: 0.5081967213114754\n",
            "\n",
            "Эксперимент с 100 нейронами, активационной функцией linear и batch_size=10:\n",
            "Epoch 1/10\n"
          ]
        },
        {
          "name": "stderr",
          "output_type": "stream",
          "text": [
            "C:\\Users\\Terion\\AppData\\Roaming\\Python\\Python311\\site-packages\\keras\\src\\layers\\reshaping\\flatten.py:37: UserWarning: Do not pass an `input_shape`/`input_dim` argument to a layer. When using Sequential models, prefer using an `Input(shape)` object as the first layer in the model instead.\n",
            "  super().__init__(**kwargs)\n"
          ]
        },
        {
          "name": "stdout",
          "output_type": "stream",
          "text": [
            "20/20 - 1s - 66ms/step - accuracy: 0.4583 - loss: 203.8238 - val_accuracy: 0.4286 - val_loss: 241.0558\n",
            "Epoch 2/10\n",
            "20/20 - 1s - 27ms/step - accuracy: 0.6510 - loss: 118.3256 - val_accuracy: 0.4694 - val_loss: 204.6615\n",
            "Epoch 3/10\n",
            "20/20 - 0s - 13ms/step - accuracy: 0.5938 - loss: 93.8089 - val_accuracy: 0.5102 - val_loss: 195.6839\n",
            "Epoch 4/10\n",
            "20/20 - 0s - 12ms/step - accuracy: 0.7500 - loss: 52.3367 - val_accuracy: 0.6531 - val_loss: 116.3934\n",
            "Epoch 5/10\n",
            "20/20 - 0s - 11ms/step - accuracy: 0.7292 - loss: 42.2288 - val_accuracy: 0.6531 - val_loss: 123.1892\n",
            "Epoch 6/10\n",
            "20/20 - 0s - 8ms/step - accuracy: 0.7135 - loss: 45.0183 - val_accuracy: 0.5714 - val_loss: 138.8345\n",
            "Epoch 7/10\n",
            "20/20 - 0s - 8ms/step - accuracy: 0.8385 - loss: 21.0955 - val_accuracy: 0.6327 - val_loss: 85.9594\n",
            "Epoch 8/10\n",
            "20/20 - 0s - 8ms/step - accuracy: 0.8333 - loss: 18.8254 - val_accuracy: 0.6327 - val_loss: 98.7860\n",
            "Epoch 9/10\n",
            "20/20 - 0s - 9ms/step - accuracy: 0.7708 - loss: 25.9115 - val_accuracy: 0.7143 - val_loss: 91.3415\n",
            "Epoch 10/10\n",
            "20/20 - 0s - 10ms/step - accuracy: 0.7188 - loss: 43.6846 - val_accuracy: 0.6327 - val_loss: 138.6571\n",
            "\u001b[1m2/2\u001b[0m \u001b[32m━━━━━━━━━━━━━━━━━━━━\u001b[0m\u001b[37m\u001b[0m \u001b[1m0s\u001b[0m 59ms/step\n",
            "Точность: 0.5901639344262295\n",
            "\n",
            "Эксперимент с 100 нейронами, активационной функцией linear и batch_size=100:\n",
            "Epoch 1/10\n"
          ]
        },
        {
          "name": "stderr",
          "output_type": "stream",
          "text": [
            "C:\\Users\\Terion\\AppData\\Roaming\\Python\\Python311\\site-packages\\keras\\src\\layers\\reshaping\\flatten.py:37: UserWarning: Do not pass an `input_shape`/`input_dim` argument to a layer. When using Sequential models, prefer using an `Input(shape)` object as the first layer in the model instead.\n",
            "  super().__init__(**kwargs)\n"
          ]
        },
        {
          "name": "stdout",
          "output_type": "stream",
          "text": [
            "2/2 - 1s - 668ms/step - accuracy: 0.3021 - loss: 341.3983 - val_accuracy: 0.3469 - val_loss: 488.5410\n",
            "Epoch 2/10\n",
            "2/2 - 0s - 78ms/step - accuracy: 0.3854 - loss: 376.3739 - val_accuracy: 0.3673 - val_loss: 167.7986\n",
            "Epoch 3/10\n",
            "2/2 - 0s - 86ms/step - accuracy: 0.4583 - loss: 204.7241 - val_accuracy: 0.3265 - val_loss: 270.3584\n",
            "Epoch 4/10\n",
            "2/2 - 0s - 69ms/step - accuracy: 0.4479 - loss: 229.0621 - val_accuracy: 0.4082 - val_loss: 163.0179\n",
            "Epoch 5/10\n",
            "2/2 - 0s - 90ms/step - accuracy: 0.4219 - loss: 145.0762 - val_accuracy: 0.4898 - val_loss: 205.5074\n",
            "Epoch 6/10\n",
            "2/2 - 0s - 79ms/step - accuracy: 0.5104 - loss: 166.8526 - val_accuracy: 0.4490 - val_loss: 145.8620\n",
            "Epoch 7/10\n",
            "2/2 - 0s - 83ms/step - accuracy: 0.5521 - loss: 104.6384 - val_accuracy: 0.4286 - val_loss: 114.5490\n",
            "Epoch 8/10\n",
            "2/2 - 0s - 70ms/step - accuracy: 0.5260 - loss: 114.2157 - val_accuracy: 0.4490 - val_loss: 132.1286\n",
            "Epoch 9/10\n",
            "2/2 - 0s - 63ms/step - accuracy: 0.5000 - loss: 108.4122 - val_accuracy: 0.5102 - val_loss: 97.2485\n",
            "Epoch 10/10\n",
            "2/2 - 0s - 59ms/step - accuracy: 0.6094 - loss: 73.0615 - val_accuracy: 0.4490 - val_loss: 107.2953\n",
            "\u001b[1m2/2\u001b[0m \u001b[32m━━━━━━━━━━━━━━━━━━━━\u001b[0m\u001b[37m\u001b[0m \u001b[1m0s\u001b[0m 57ms/step\n",
            "Точность: 0.4918032786885246\n",
            "\n",
            "Эксперимент с 100 нейронами, активационной функцией linear и batch_size=1000:\n",
            "Epoch 1/10\n"
          ]
        },
        {
          "name": "stderr",
          "output_type": "stream",
          "text": [
            "C:\\Users\\Terion\\AppData\\Roaming\\Python\\Python311\\site-packages\\keras\\src\\layers\\reshaping\\flatten.py:37: UserWarning: Do not pass an `input_shape`/`input_dim` argument to a layer. When using Sequential models, prefer using an `Input(shape)` object as the first layer in the model instead.\n",
            "  super().__init__(**kwargs)\n"
          ]
        },
        {
          "name": "stdout",
          "output_type": "stream",
          "text": [
            "1/1 - 1s - 1s/step - accuracy: 0.2396 - loss: 230.8185 - val_accuracy: 0.3265 - val_loss: 390.4956\n",
            "Epoch 2/10\n",
            "1/1 - 0s - 457ms/step - accuracy: 0.3490 - loss: 379.5034 - val_accuracy: 0.3673 - val_loss: 366.2936\n",
            "Epoch 3/10\n",
            "1/1 - 0s - 180ms/step - accuracy: 0.3802 - loss: 360.2700 - val_accuracy: 0.3469 - val_loss: 268.6684\n",
            "Epoch 4/10\n",
            "1/1 - 0s - 118ms/step - accuracy: 0.3438 - loss: 250.5145 - val_accuracy: 0.4490 - val_loss: 102.8947\n",
            "Epoch 5/10\n",
            "1/1 - 0s - 135ms/step - accuracy: 0.4635 - loss: 102.1252 - val_accuracy: 0.3061 - val_loss: 214.3294\n",
            "Epoch 6/10\n",
            "1/1 - 0s - 124ms/step - accuracy: 0.4115 - loss: 196.3537 - val_accuracy: 0.3061 - val_loss: 223.1840\n",
            "Epoch 7/10\n",
            "1/1 - 0s - 123ms/step - accuracy: 0.4167 - loss: 198.1689 - val_accuracy: 0.3469 - val_loss: 129.2837\n",
            "Epoch 8/10\n",
            "1/1 - 0s - 116ms/step - accuracy: 0.4792 - loss: 116.9036 - val_accuracy: 0.4694 - val_loss: 124.8316\n",
            "Epoch 9/10\n",
            "1/1 - 0s - 113ms/step - accuracy: 0.5312 - loss: 110.8360 - val_accuracy: 0.4898 - val_loss: 110.8720\n",
            "Epoch 10/10\n",
            "1/1 - 0s - 118ms/step - accuracy: 0.5260 - loss: 93.6179 - val_accuracy: 0.3673 - val_loss: 144.4947\n",
            "\u001b[1m2/2\u001b[0m \u001b[32m━━━━━━━━━━━━━━━━━━━━\u001b[0m\u001b[37m\u001b[0m \u001b[1m0s\u001b[0m 64ms/step\n",
            "Точность: 0.4262295081967213\n",
            "\n",
            "Эксперимент с 5000 нейронами, активационной функцией relu и batch_size=10:\n",
            "Epoch 1/10\n"
          ]
        },
        {
          "name": "stderr",
          "output_type": "stream",
          "text": [
            "C:\\Users\\Terion\\AppData\\Roaming\\Python\\Python311\\site-packages\\keras\\src\\layers\\reshaping\\flatten.py:37: UserWarning: Do not pass an `input_shape`/`input_dim` argument to a layer. When using Sequential models, prefer using an `Input(shape)` object as the first layer in the model instead.\n",
            "  super().__init__(**kwargs)\n"
          ]
        },
        {
          "name": "stdout",
          "output_type": "stream",
          "text": [
            "20/20 - 2s - 86ms/step - accuracy: 0.4375 - loss: 587.8519 - val_accuracy: 0.6122 - val_loss: 103.4505\n",
            "Epoch 2/10\n",
            "20/20 - 0s - 22ms/step - accuracy: 0.5990 - loss: 152.0647 - val_accuracy: 0.5102 - val_loss: 51.6219\n",
            "Epoch 3/10\n",
            "20/20 - 0s - 21ms/step - accuracy: 0.6875 - loss: 54.2276 - val_accuracy: 0.5714 - val_loss: 40.4071\n",
            "Epoch 4/10\n",
            "20/20 - 0s - 21ms/step - accuracy: 0.7969 - loss: 13.0236 - val_accuracy: 0.6735 - val_loss: 23.6020\n",
            "Epoch 5/10\n",
            "20/20 - 0s - 19ms/step - accuracy: 0.8281 - loss: 10.4356 - val_accuracy: 0.6122 - val_loss: 27.9712\n",
            "Epoch 6/10\n",
            "20/20 - 0s - 19ms/step - accuracy: 0.6875 - loss: 34.7792 - val_accuracy: 0.5306 - val_loss: 57.4512\n",
            "Epoch 7/10\n",
            "20/20 - 0s - 19ms/step - accuracy: 0.7135 - loss: 16.8000 - val_accuracy: 0.7143 - val_loss: 19.3293\n",
            "Epoch 8/10\n",
            "20/20 - 0s - 19ms/step - accuracy: 0.8490 - loss: 4.9485 - val_accuracy: 0.5714 - val_loss: 20.7445\n",
            "Epoch 9/10\n",
            "20/20 - 0s - 18ms/step - accuracy: 0.9062 - loss: 2.7891 - val_accuracy: 0.7143 - val_loss: 16.1063\n",
            "Epoch 10/10\n",
            "20/20 - 0s - 18ms/step - accuracy: 0.9479 - loss: 0.6876 - val_accuracy: 0.7143 - val_loss: 25.1418\n",
            "\u001b[1m2/2\u001b[0m \u001b[32m━━━━━━━━━━━━━━━━━━━━\u001b[0m\u001b[37m\u001b[0m \u001b[1m0s\u001b[0m 54ms/step\n",
            "Точность: 0.7377049180327869\n",
            "\n",
            "Эксперимент с 5000 нейронами, активационной функцией relu и batch_size=100:\n",
            "Epoch 1/10\n"
          ]
        },
        {
          "name": "stderr",
          "output_type": "stream",
          "text": [
            "C:\\Users\\Terion\\AppData\\Roaming\\Python\\Python311\\site-packages\\keras\\src\\layers\\reshaping\\flatten.py:37: UserWarning: Do not pass an `input_shape`/`input_dim` argument to a layer. When using Sequential models, prefer using an `Input(shape)` object as the first layer in the model instead.\n",
            "  super().__init__(**kwargs)\n"
          ]
        },
        {
          "name": "stdout",
          "output_type": "stream",
          "text": [
            "2/2 - 1s - 473ms/step - accuracy: 0.3906 - loss: 648.8016 - val_accuracy: 0.2857 - val_loss: 2513.3298\n",
            "Epoch 2/10\n",
            "2/2 - 0s - 74ms/step - accuracy: 0.3333 - loss: 2008.0751 - val_accuracy: 0.4694 - val_loss: 795.1591\n",
            "Epoch 3/10\n",
            "2/2 - 0s - 56ms/step - accuracy: 0.4167 - loss: 750.4317 - val_accuracy: 0.3878 - val_loss: 372.7539\n",
            "Epoch 4/10\n",
            "2/2 - 0s - 55ms/step - accuracy: 0.3646 - loss: 264.9670 - val_accuracy: 0.4286 - val_loss: 382.8104\n",
            "Epoch 5/10\n",
            "2/2 - 0s - 58ms/step - accuracy: 0.5156 - loss: 286.3583 - val_accuracy: 0.4898 - val_loss: 300.4920\n",
            "Epoch 6/10\n",
            "2/2 - 0s - 84ms/step - accuracy: 0.5729 - loss: 181.7855 - val_accuracy: 0.4286 - val_loss: 99.3618\n",
            "Epoch 7/10\n",
            "2/2 - 0s - 68ms/step - accuracy: 0.5833 - loss: 64.5241 - val_accuracy: 0.5306 - val_loss: 117.8553\n",
            "Epoch 8/10\n",
            "2/2 - 0s - 58ms/step - accuracy: 0.5052 - loss: 115.0996 - val_accuracy: 0.4898 - val_loss: 106.3254\n",
            "Epoch 9/10\n",
            "2/2 - 0s - 56ms/step - accuracy: 0.5677 - loss: 64.3814 - val_accuracy: 0.5306 - val_loss: 50.2153\n",
            "Epoch 10/10\n",
            "2/2 - 0s - 53ms/step - accuracy: 0.6250 - loss: 40.0217 - val_accuracy: 0.5102 - val_loss: 89.7526\n",
            "\u001b[1m2/2\u001b[0m \u001b[32m━━━━━━━━━━━━━━━━━━━━\u001b[0m\u001b[37m\u001b[0m \u001b[1m0s\u001b[0m 53ms/step\n",
            "Точность: 0.5081967213114754\n",
            "\n",
            "Эксперимент с 5000 нейронами, активационной функцией relu и batch_size=1000:\n",
            "Epoch 1/10\n"
          ]
        },
        {
          "name": "stderr",
          "output_type": "stream",
          "text": [
            "C:\\Users\\Terion\\AppData\\Roaming\\Python\\Python311\\site-packages\\keras\\src\\layers\\reshaping\\flatten.py:37: UserWarning: Do not pass an `input_shape`/`input_dim` argument to a layer. When using Sequential models, prefer using an `Input(shape)` object as the first layer in the model instead.\n",
            "  super().__init__(**kwargs)\n"
          ]
        },
        {
          "name": "stdout",
          "output_type": "stream",
          "text": [
            "1/1 - 1s - 1s/step - accuracy: 0.2917 - loss: 37.9747 - val_accuracy: 0.3265 - val_loss: 1932.3114\n",
            "Epoch 2/10\n",
            "1/1 - 0s - 95ms/step - accuracy: 0.3438 - loss: 1898.4170 - val_accuracy: 0.4082 - val_loss: 862.5983\n",
            "Epoch 3/10\n",
            "1/1 - 0s - 93ms/step - accuracy: 0.3177 - loss: 878.9675 - val_accuracy: 0.3878 - val_loss: 583.8176\n",
            "Epoch 4/10\n",
            "1/1 - 0s - 98ms/step - accuracy: 0.3229 - loss: 527.3526 - val_accuracy: 0.4286 - val_loss: 359.3437\n",
            "Epoch 5/10\n",
            "1/1 - 0s - 96ms/step - accuracy: 0.4792 - loss: 269.7937 - val_accuracy: 0.3878 - val_loss: 296.8915\n",
            "Epoch 6/10\n",
            "1/1 - 0s - 103ms/step - accuracy: 0.5417 - loss: 264.6010 - val_accuracy: 0.3469 - val_loss: 322.5641\n",
            "Epoch 7/10\n",
            "1/1 - 0s - 101ms/step - accuracy: 0.4531 - loss: 319.7230 - val_accuracy: 0.4082 - val_loss: 162.7019\n",
            "Epoch 8/10\n",
            "1/1 - 0s - 95ms/step - accuracy: 0.4688 - loss: 152.1812 - val_accuracy: 0.5510 - val_loss: 199.9435\n",
            "Epoch 9/10\n",
            "1/1 - 0s - 95ms/step - accuracy: 0.5312 - loss: 159.8286 - val_accuracy: 0.6531 - val_loss: 128.0393\n",
            "Epoch 10/10\n",
            "1/1 - 0s - 99ms/step - accuracy: 0.7031 - loss: 87.0564 - val_accuracy: 0.5510 - val_loss: 184.4559\n",
            "\u001b[1m2/2\u001b[0m \u001b[32m━━━━━━━━━━━━━━━━━━━━\u001b[0m\u001b[37m\u001b[0m \u001b[1m0s\u001b[0m 38ms/step\n",
            "Точность: 0.6065573770491803\n",
            "\n",
            "Эксперимент с 5000 нейронами, активационной функцией linear и batch_size=10:\n",
            "Epoch 1/10\n"
          ]
        },
        {
          "name": "stderr",
          "output_type": "stream",
          "text": [
            "C:\\Users\\Terion\\AppData\\Roaming\\Python\\Python311\\site-packages\\keras\\src\\layers\\reshaping\\flatten.py:37: UserWarning: Do not pass an `input_shape`/`input_dim` argument to a layer. When using Sequential models, prefer using an `Input(shape)` object as the first layer in the model instead.\n",
            "  super().__init__(**kwargs)\n"
          ]
        },
        {
          "name": "stdout",
          "output_type": "stream",
          "text": [
            "20/20 - 1s - 53ms/step - accuracy: 0.4167 - loss: 1613.4240 - val_accuracy: 0.6939 - val_loss: 558.1386\n",
            "Epoch 2/10\n",
            "20/20 - 0s - 18ms/step - accuracy: 0.7031 - loss: 381.4403 - val_accuracy: 0.6735 - val_loss: 288.1711\n",
            "Epoch 3/10\n",
            "20/20 - 0s - 18ms/step - accuracy: 0.7604 - loss: 148.4454 - val_accuracy: 0.5714 - val_loss: 226.4767\n",
            "Epoch 4/10\n",
            "20/20 - 0s - 18ms/step - accuracy: 0.7292 - loss: 76.9409 - val_accuracy: 0.6531 - val_loss: 149.6150\n",
            "Epoch 5/10\n",
            "20/20 - 1s - 37ms/step - accuracy: 0.7292 - loss: 68.8464 - val_accuracy: 0.6735 - val_loss: 161.3628\n",
            "Epoch 6/10\n",
            "20/20 - 0s - 23ms/step - accuracy: 0.7969 - loss: 60.2880 - val_accuracy: 0.6531 - val_loss: 206.5271\n",
            "Epoch 7/10\n",
            "20/20 - 0s - 22ms/step - accuracy: 0.7969 - loss: 36.1324 - val_accuracy: 0.6735 - val_loss: 136.0905\n",
            "Epoch 8/10\n",
            "20/20 - 0s - 21ms/step - accuracy: 0.7969 - loss: 41.5801 - val_accuracy: 0.5918 - val_loss: 167.2534\n",
            "Epoch 9/10\n",
            "20/20 - 0s - 21ms/step - accuracy: 0.6979 - loss: 84.1712 - val_accuracy: 0.5510 - val_loss: 227.4145\n",
            "Epoch 10/10\n",
            "20/20 - 0s - 24ms/step - accuracy: 0.7604 - loss: 87.6862 - val_accuracy: 0.5102 - val_loss: 173.0204\n",
            "\u001b[1m2/2\u001b[0m \u001b[32m━━━━━━━━━━━━━━━━━━━━\u001b[0m\u001b[37m\u001b[0m \u001b[1m0s\u001b[0m 59ms/step\n",
            "Точность: 0.47540983606557374\n",
            "\n",
            "Эксперимент с 5000 нейронами, активационной функцией linear и batch_size=100:\n",
            "Epoch 1/10\n"
          ]
        },
        {
          "name": "stderr",
          "output_type": "stream",
          "text": [
            "C:\\Users\\Terion\\AppData\\Roaming\\Python\\Python311\\site-packages\\keras\\src\\layers\\reshaping\\flatten.py:37: UserWarning: Do not pass an `input_shape`/`input_dim` argument to a layer. When using Sequential models, prefer using an `Input(shape)` object as the first layer in the model instead.\n",
            "  super().__init__(**kwargs)\n"
          ]
        },
        {
          "name": "stdout",
          "output_type": "stream",
          "text": [
            "2/2 - 1s - 639ms/step - accuracy: 0.2969 - loss: 1317.0326 - val_accuracy: 0.3878 - val_loss: 4535.9756\n",
            "Epoch 2/10\n",
            "2/2 - 0s - 75ms/step - accuracy: 0.3229 - loss: 4432.3208 - val_accuracy: 0.3878 - val_loss: 1867.1421\n",
            "Epoch 3/10\n",
            "2/2 - 0s - 82ms/step - accuracy: 0.3281 - loss: 1997.1488 - val_accuracy: 0.4286 - val_loss: 2104.3411\n",
            "Epoch 4/10\n",
            "2/2 - 0s - 97ms/step - accuracy: 0.4844 - loss: 1551.4242 - val_accuracy: 0.3061 - val_loss: 2235.1675\n",
            "Epoch 5/10\n",
            "2/2 - 0s - 85ms/step - accuracy: 0.3385 - loss: 1904.2479 - val_accuracy: 0.3469 - val_loss: 1120.5015\n",
            "Epoch 6/10\n",
            "2/2 - 0s - 80ms/step - accuracy: 0.5677 - loss: 682.8723 - val_accuracy: 0.5918 - val_loss: 493.3088\n",
            "Epoch 7/10\n",
            "2/2 - 0s - 89ms/step - accuracy: 0.5885 - loss: 486.9934 - val_accuracy: 0.5510 - val_loss: 893.3822\n",
            "Epoch 8/10\n",
            "2/2 - 0s - 75ms/step - accuracy: 0.6406 - loss: 747.2644 - val_accuracy: 0.3469 - val_loss: 1224.5696\n",
            "Epoch 9/10\n",
            "2/2 - 0s - 91ms/step - accuracy: 0.5156 - loss: 862.9195 - val_accuracy: 0.5102 - val_loss: 820.8836\n",
            "Epoch 10/10\n",
            "2/2 - 0s - 84ms/step - accuracy: 0.7188 - loss: 536.1187 - val_accuracy: 0.6122 - val_loss: 547.4656\n",
            "\u001b[1m2/2\u001b[0m \u001b[32m━━━━━━━━━━━━━━━━━━━━\u001b[0m\u001b[37m\u001b[0m \u001b[1m0s\u001b[0m 91ms/step\n",
            "Точность: 0.5737704918032787\n",
            "\n",
            "Эксперимент с 5000 нейронами, активационной функцией linear и batch_size=1000:\n",
            "Epoch 1/10\n"
          ]
        },
        {
          "name": "stderr",
          "output_type": "stream",
          "text": [
            "C:\\Users\\Terion\\AppData\\Roaming\\Python\\Python311\\site-packages\\keras\\src\\layers\\reshaping\\flatten.py:37: UserWarning: Do not pass an `input_shape`/`input_dim` argument to a layer. When using Sequential models, prefer using an `Input(shape)` object as the first layer in the model instead.\n",
            "  super().__init__(**kwargs)\n"
          ]
        },
        {
          "name": "stdout",
          "output_type": "stream",
          "text": [
            "1/1 - 1s - 1s/step - accuracy: 0.3698 - loss: 102.8219 - val_accuracy: 0.3265 - val_loss: 4615.9746\n",
            "Epoch 2/10\n",
            "1/1 - 0s - 96ms/step - accuracy: 0.3438 - loss: 4041.8025 - val_accuracy: 0.4082 - val_loss: 3019.8904\n",
            "Epoch 3/10\n",
            "1/1 - 0s - 98ms/step - accuracy: 0.5104 - loss: 2524.8523 - val_accuracy: 0.4694 - val_loss: 1829.1649\n",
            "Epoch 4/10\n",
            "1/1 - 0s - 97ms/step - accuracy: 0.5573 - loss: 1514.6498 - val_accuracy: 0.4490 - val_loss: 518.8458\n",
            "Epoch 5/10\n",
            "1/1 - 0s - 96ms/step - accuracy: 0.5365 - loss: 359.3551 - val_accuracy: 0.3878 - val_loss: 1703.9146\n",
            "Epoch 6/10\n",
            "1/1 - 0s - 95ms/step - accuracy: 0.3229 - loss: 1642.2080 - val_accuracy: 0.3878 - val_loss: 2138.7466\n",
            "Epoch 7/10\n",
            "1/1 - 0s - 97ms/step - accuracy: 0.3229 - loss: 2068.4014 - val_accuracy: 0.4286 - val_loss: 1635.3817\n",
            "Epoch 8/10\n",
            "1/1 - 0s - 94ms/step - accuracy: 0.4271 - loss: 1531.9614 - val_accuracy: 0.4898 - val_loss: 837.2173\n",
            "Epoch 9/10\n",
            "1/1 - 0s - 97ms/step - accuracy: 0.4844 - loss: 794.2274 - val_accuracy: 0.3061 - val_loss: 1071.2563\n",
            "Epoch 10/10\n",
            "1/1 - 0s - 127ms/step - accuracy: 0.3385 - loss: 1043.2122 - val_accuracy: 0.4082 - val_loss: 737.5569\n",
            "\u001b[1m2/2\u001b[0m \u001b[32m━━━━━━━━━━━━━━━━━━━━\u001b[0m\u001b[37m\u001b[0m \u001b[1m0s\u001b[0m 60ms/step\n",
            "Точность: 0.5081967213114754\n"
          ]
        }
      ],
      "source": [
        "# Эксперименты с разными гиперпараметрами\n",
        "neuron_counts = [10, 100, 5000]\n",
        "activation_functions = ['relu', 'linear']  # Сначала relu, затем linear\n",
        "batch_sizes = [10, 100, 1000]\n",
        "\n",
        "results = []\n",
        "\n",
        "for neurons in neuron_counts:\n",
        "    for activation_func in activation_functions:\n",
        "        for batch_size in batch_sizes:\n",
        "            print(f\"\\nЭксперимент с {neurons} нейронами, активационной функцией {activation_func} и batch_size={batch_size}:\")\n",
        "            accuracy = create_and_train_model(neurons, activation_func, batch_size)\n",
        "            results.append((neurons, activation_func, batch_size, accuracy))\n",
        "            print(f\"Точность: {accuracy}\")"
      ]
    },
    {
      "cell_type": "code",
      "execution_count": null,
      "metadata": {
        "id": "ew9TbkQFIABR"
      },
      "outputs": [],
      "source": [
        "# Преобразование результатов в DataFrame для удобной обработки\n",
        "df_results = pd.DataFrame(results, columns=['Neurons', 'Activation Function', 'Batch Size', 'Accuracy'])"
      ]
    },
    {
      "cell_type": "code",
      "execution_count": null,
      "metadata": {
        "id": "dsA09hA6IABS"
      },
      "outputs": [],
      "source": [
        "# Создание пустого DataFrame для сравнительной таблицы\n",
        "df_comparison = pd.DataFrame(columns=['Neurons', 'Batch Size', 'Accuracy with ReLU', 'Accuracy with Linear'])"
      ]
    },
    {
      "cell_type": "code",
      "execution_count": null,
      "metadata": {
        "id": "PdoAA9mFIABS",
        "outputId": "c60b0fec-dc79-49b9-c0a0-1af6ca7a16f4"
      },
      "outputs": [
        {
          "name": "stdout",
          "output_type": "stream",
          "text": [
            "\n",
            "Сравнительная таблица результатов:\n",
            "  Neurons Batch Size  Accuracy with ReLU  Accuracy with Linear\n",
            "0      10         10            0.278689              0.704918\n",
            "1      10        100            0.442623              0.426230\n",
            "2      10       1000            0.508197              0.377049\n",
            "3     100         10            0.754098              0.590164\n",
            "4     100        100            0.622951              0.491803\n",
            "5     100       1000            0.508197              0.426230\n",
            "6    5000         10            0.737705              0.475410\n",
            "7    5000        100            0.508197              0.573770\n",
            "8    5000       1000            0.606557              0.508197\n"
          ]
        }
      ],
      "source": [
        "# Заполнение сравнительной таблицы\n",
        "for neurons in neuron_counts:\n",
        "    for batch_size in batch_sizes:\n",
        "        relu_accuracy = df_results[(df_results['Neurons'] == neurons) & (df_results['Activation Function'] == 'relu') & (df_results['Batch Size'] == batch_size)]['Accuracy'].values[0]\n",
        "        linear_accuracy = df_results[(df_results['Neurons'] == neurons) & (df_results['Activation Function'] == 'linear') & (df_results['Batch Size'] == batch_size)]['Accuracy'].values[0]\n",
        "        df_comparison = pd.concat([df_comparison, pd.DataFrame({'Neurons': [neurons], 'Batch Size': [batch_size], 'Accuracy with ReLU': [relu_accuracy], 'Accuracy with Linear': [linear_accuracy]})], ignore_index=True)\n",
        "\n",
        "print(\"\\nСравнительная таблица результатов:\")\n",
        "print(df_comparison)"
      ]
    },
    {
      "cell_type": "code",
      "execution_count": null,
      "metadata": {
        "id": "2UmOdSvBIABT"
      },
      "outputs": [],
      "source": []
    }
  ],
  "metadata": {
    "accelerator": "GPU",
    "colab": {
      "provenance": [],
      "include_colab_link": true
    },
    "kernelspec": {
      "display_name": "Python 3 (ipykernel)",
      "language": "python",
      "name": "python3"
    },
    "language_info": {
      "codemirror_mode": {
        "name": "ipython",
        "version": 3
      },
      "file_extension": ".py",
      "mimetype": "text/x-python",
      "name": "python",
      "nbconvert_exporter": "python",
      "pygments_lexer": "ipython3",
      "version": "3.11.5"
    }
  },
  "nbformat": 4,
  "nbformat_minor": 0
}